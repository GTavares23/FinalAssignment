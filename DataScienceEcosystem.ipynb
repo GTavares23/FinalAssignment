{
 "cells": [
  {
   "cell_type": "markdown",
   "id": "3189c66b-f5ee-4ae6-a445-360e1deb6982",
   "metadata": {},
   "source": [
    "# Data Science Tools and Ecosystem"
   ]
  },
  {
   "cell_type": "markdown",
   "id": "5155de09-c484-4482-8706-f6f317f6ea85",
   "metadata": {},
   "source": [
    "In this notebook, Data Science Tools and Ecosystem are summarized."
   ]
  },
  {
   "cell_type": "markdown",
   "id": "d15e5f5e-79f4-4b6a-b46a-9ad9beb4758b",
   "metadata": {},
   "source": [
    "**Objectives:**\n",
    "List popular languages for Data Science:\n",
    "+ List popular languages for Data Science\n",
    "+ List commonly used libraries for Data Science\n",
    "+ Basic Arithmetic Expression\n",
    "+ Converting hours to minutes"
   ]
  },
  {
   "attachments": {},
   "cell_type": "markdown",
   "id": "cc5b43ce-7729-4f02-991e-bc060426463a",
   "metadata": {},
   "source": [
    "Some of the popular languages that Data Scientists use are:\n",
    "1. Java\n",
    "2. C++\n",
    "3. MatLab\n",
    "4. Visual Basic\n",
    "5. Python\n",
    "6. R"
   ]
  },
  {
   "cell_type": "markdown",
   "id": "7b00e9a6-ab47-4f92-b4c5-c8b6b29ce5e3",
   "metadata": {},
   "source": [
    "Some of the commonly used libraries used by Data Scientists include:\n",
    "1. NumPy\n",
    "2. Pandas\n",
    "3. TensorFlow\n",
    "4. Keras\n",
    "5. Matpltlib\n",
    "6. Seaborn"
   ]
  },
  {
   "cell_type": "markdown",
   "id": "8e02b36b-4ec4-48a1-b88c-25e2bc57b2b2",
   "metadata": {},
   "source": [
    "|Data Science Tools|\n",
    "|------------------|\n",
    "|Git|\n",
    "|Linux|\n",
    "|Visual Studio Code|"
   ]
  },
  {
   "cell_type": "markdown",
   "id": "b08f0646-62f7-4213-aeb3-dface670b249",
   "metadata": {},
   "source": [
    "### Below are a few examples of evaluating arithmetic expressions in Python"
   ]
  },
  {
   "cell_type": "code",
   "execution_count": 41,
   "id": "8e7cca2e-9581-483a-8fef-9630162b3ecc",
   "metadata": {},
   "outputs": [
    {
     "data": {
      "text/plain": [
       "17"
      ]
     },
     "execution_count": 41,
     "metadata": {},
     "output_type": "execute_result"
    }
   ],
   "source": [
    "#This a simple arithmetic expression to mutiply then add integers\n",
    "(3*4)+5"
   ]
  },
  {
   "cell_type": "code",
   "execution_count": 12,
   "id": "403b6a85-6f59-4e66-902d-b4ba09dd9c1e",
   "metadata": {},
   "outputs": [
    {
     "data": {
      "text/plain": [
       "3.3333333333333335"
      ]
     },
     "execution_count": 12,
     "metadata": {},
     "output_type": "execute_result"
    }
   ],
   "source": [
    "#This will convert 200 minutes to hours by diving by 60\n",
    "200/60"
   ]
  },
  {
   "cell_type": "markdown",
   "id": "d6f6ccd9-94dd-4a83-98ff-450a1b5c1f43",
   "metadata": {},
   "source": [
    "## Author\n",
    "Gonçalo Cadete Tavares"
   ]
  }
 ],
 "metadata": {
  "kernelspec": {
   "display_name": "Python 3 (ipykernel)",
   "language": "python",
   "name": "python3"
  },
  "language_info": {
   "codemirror_mode": {
    "name": "ipython",
    "version": 3
   },
   "file_extension": ".py",
   "mimetype": "text/x-python",
   "name": "python",
   "nbconvert_exporter": "python",
   "pygments_lexer": "ipython3",
   "version": "3.12.4"
  }
 },
 "nbformat": 4,
 "nbformat_minor": 5
}
